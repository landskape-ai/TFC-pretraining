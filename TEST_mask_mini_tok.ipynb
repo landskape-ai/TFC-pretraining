{
 "cells": [
  {
   "cell_type": "code",
   "execution_count": 83,
   "id": "c6e0e3ab",
   "metadata": {},
   "outputs": [],
   "source": [
    "import torch\n",
    "import numpy as np"
   ]
  },
  {
   "cell_type": "code",
   "execution_count": 107,
   "id": "0bc47df8",
   "metadata": {},
   "outputs": [],
   "source": [
    "batch_size = 2\n",
    "feature_size = 2\n",
    "num_tokens = 4\n",
    "token_size = 6"
   ]
  },
  {
   "cell_type": "code",
   "execution_count": 108,
   "id": "d0a66c43",
   "metadata": {},
   "outputs": [
    {
     "name": "stdout",
     "output_type": "stream",
     "text": [
      "tensor([[[[ 0.3415, -0.7421, -1.6642, -0.6188,  0.5851,  0.7946],\n",
      "          [ 0.3862,  0.3465, -0.4487,  1.0918, -0.4493, -0.5910],\n",
      "          [ 1.0110,  0.1336,  0.8510,  1.9779,  0.5185, -0.9421],\n",
      "          [-2.2669,  0.4826,  1.2216,  1.4022,  0.7849,  0.7682]],\n",
      "\n",
      "         [[-0.0357, -1.2210,  1.1843,  0.2753, -0.8004,  0.9002],\n",
      "          [-0.2157,  0.2856, -1.0466,  0.2261,  0.9820, -0.3331],\n",
      "          [-0.9773,  1.3335,  1.7221,  1.0311,  0.9494,  0.2304],\n",
      "          [ 0.1028, -1.3259,  2.0360,  0.5324, -1.2760,  0.2598]]],\n",
      "\n",
      "\n",
      "        [[[-0.1043,  0.7626, -0.1383,  0.3262,  1.4163,  1.1930],\n",
      "          [-0.9546,  1.0084,  1.4956, -1.1866, -0.7160,  0.0618],\n",
      "          [ 0.8694, -0.8502, -0.5088,  0.7030, -0.3161, -0.5047],\n",
      "          [ 0.1013,  1.6498, -0.0852, -0.3387, -1.7625, -0.4069]],\n",
      "\n",
      "         [[ 1.1139,  0.9033, -0.1297,  0.9186, -0.0377,  0.4204],\n",
      "          [ 0.4495,  0.7723, -0.4204, -0.6152,  0.8331,  1.0382],\n",
      "          [ 0.7052,  0.4141,  0.5190, -0.5778,  0.9022,  1.5894],\n",
      "          [ 0.9845,  0.8140,  1.2143,  1.4363, -0.5735,  0.4860]]]])\n",
      "torch.Size([2, 2, 4, 6])\n"
     ]
    }
   ],
   "source": [
    "x = torch.randn((batch_size, feature_size, num_tokens, token_size))\n",
    "print(x)\n",
    "print(x.shape)"
   ]
  },
  {
   "cell_type": "code",
   "execution_count": 109,
   "id": "ddd12465",
   "metadata": {},
   "outputs": [],
   "source": [
    "def generate_random_masks_mini_tokens(mask_ratio, num_tokens, batch_size):\n",
    "    \"\"\" Generate random masks for the mini tokens \"\"\"\n",
    "    def single_sample_mask():\n",
    "        idx = np.random.permutation(num_tokens)[: int(mask_ratio * num_tokens)]\n",
    "        mask = np.zeros(num_tokens)\n",
    "        mask[idx] = 1\n",
    "        return mask\n",
    "    masks_list = [single_sample_mask() for _ in range(batch_size)]\n",
    "    masks = np.stack(masks_list, axis=0)  # (num_samples, num_tokens)\n",
    "    return masks"
   ]
  },
  {
   "cell_type": "code",
   "execution_count": 161,
   "id": "6277b0ab",
   "metadata": {},
   "outputs": [
    {
     "name": "stdout",
     "output_type": "stream",
     "text": [
      "[[1. 0. 0. 1.]\n",
      " [0. 1. 1. 0.]] (2, 4)\n"
     ]
    }
   ],
   "source": [
    "rand_mask = generate_random_masks_mini_tokens(0.5, num_tokens, batch_size)\n",
    "print(rand_mask, rand_mask.shape)"
   ]
  },
  {
   "cell_type": "code",
   "execution_count": 162,
   "id": "8326c35e",
   "metadata": {},
   "outputs": [
    {
     "data": {
      "text/plain": [
       "(2, 4, 1)"
      ]
     },
     "execution_count": 162,
     "metadata": {},
     "output_type": "execute_result"
    }
   ],
   "source": [
    "rand_mask_1 = np.expand_dims(rand_mask, axis=2)\n",
    "rand_mask_1.shape"
   ]
  },
  {
   "cell_type": "code",
   "execution_count": 163,
   "id": "a37e9fa7",
   "metadata": {},
   "outputs": [
    {
     "data": {
      "text/plain": [
       "(2, 4, 6)"
      ]
     },
     "execution_count": 163,
     "metadata": {},
     "output_type": "execute_result"
    }
   ],
   "source": [
    "rand_mask_2 = np.repeat(rand_mask_1, token_size, axis=2)\n",
    "rand_mask_2.shape"
   ]
  },
  {
   "cell_type": "code",
   "execution_count": 164,
   "id": "f5175390",
   "metadata": {},
   "outputs": [
    {
     "data": {
      "text/plain": [
       "(2, 2, 4, 6)"
      ]
     },
     "execution_count": 164,
     "metadata": {},
     "output_type": "execute_result"
    }
   ],
   "source": [
    "rand_mask_3 = np.expand_dims(rand_mask_2, axis=1)\n",
    "rand_mask_3 = np.repeat(rand_mask_3, feature_size, axis=1)\n",
    "rand_mask_3.shape"
   ]
  },
  {
   "cell_type": "code",
   "execution_count": 165,
   "id": "eb394a70",
   "metadata": {},
   "outputs": [
    {
     "data": {
      "text/plain": [
       "tensor([[[[ 0.3415, -0.7421, -1.6642, -0.6188,  0.5851,  0.7946],\n",
       "          [ 0.0000,  0.0000, -0.0000,  0.0000, -0.0000, -0.0000],\n",
       "          [ 0.0000,  0.0000,  0.0000,  0.0000,  0.0000, -0.0000],\n",
       "          [-2.2669,  0.4826,  1.2216,  1.4022,  0.7849,  0.7682]],\n",
       "\n",
       "         [[-0.0357, -1.2210,  1.1843,  0.2753, -0.8004,  0.9002],\n",
       "          [-0.0000,  0.0000, -0.0000,  0.0000,  0.0000, -0.0000],\n",
       "          [-0.0000,  0.0000,  0.0000,  0.0000,  0.0000,  0.0000],\n",
       "          [ 0.1028, -1.3259,  2.0360,  0.5324, -1.2760,  0.2598]]],\n",
       "\n",
       "\n",
       "        [[[-0.0000,  0.0000, -0.0000,  0.0000,  0.0000,  0.0000],\n",
       "          [-0.9546,  1.0084,  1.4956, -1.1866, -0.7160,  0.0618],\n",
       "          [ 0.8694, -0.8502, -0.5088,  0.7030, -0.3161, -0.5047],\n",
       "          [ 0.0000,  0.0000, -0.0000, -0.0000, -0.0000, -0.0000]],\n",
       "\n",
       "         [[ 0.0000,  0.0000, -0.0000,  0.0000, -0.0000,  0.0000],\n",
       "          [ 0.4495,  0.7723, -0.4204, -0.6152,  0.8331,  1.0382],\n",
       "          [ 0.7052,  0.4141,  0.5190, -0.5778,  0.9022,  1.5894],\n",
       "          [ 0.0000,  0.0000,  0.0000,  0.0000, -0.0000,  0.0000]]]],\n",
       "       dtype=torch.float64)"
      ]
     },
     "execution_count": 165,
     "metadata": {},
     "output_type": "execute_result"
    }
   ],
   "source": [
    "x * rand_mask_3"
   ]
  },
  {
   "cell_type": "code",
   "execution_count": 166,
   "id": "a008cf6c",
   "metadata": {},
   "outputs": [],
   "source": [
    "def convert_mask_to_shape(rand_mask):\n",
    "    rand_mask_1 = np.expand_dims(rand_mask, axis=2)\n",
    "    rand_mask_2 = np.repeat(rand_mask_1, token_size, axis=2)\n",
    "    rand_mask_3 = np.expand_dims(rand_mask_2, axis=1)\n",
    "    rand_mask_4 = np.repeat(rand_mask_3, feature_size, axis=1)\n",
    "    return rand_mask_4"
   ]
  },
  {
   "cell_type": "code",
   "execution_count": 167,
   "id": "c0581653",
   "metadata": {},
   "outputs": [
    {
     "data": {
      "text/plain": [
       "tensor([[[[ 0.3415, -0.7421, -1.6642, -0.6188,  0.5851,  0.7946],\n",
       "          [ 0.0000,  0.0000, -0.0000,  0.0000, -0.0000, -0.0000],\n",
       "          [ 0.0000,  0.0000,  0.0000,  0.0000,  0.0000, -0.0000],\n",
       "          [-2.2669,  0.4826,  1.2216,  1.4022,  0.7849,  0.7682]],\n",
       "\n",
       "         [[-0.0357, -1.2210,  1.1843,  0.2753, -0.8004,  0.9002],\n",
       "          [-0.0000,  0.0000, -0.0000,  0.0000,  0.0000, -0.0000],\n",
       "          [-0.0000,  0.0000,  0.0000,  0.0000,  0.0000,  0.0000],\n",
       "          [ 0.1028, -1.3259,  2.0360,  0.5324, -1.2760,  0.2598]]],\n",
       "\n",
       "\n",
       "        [[[-0.0000,  0.0000, -0.0000,  0.0000,  0.0000,  0.0000],\n",
       "          [-0.9546,  1.0084,  1.4956, -1.1866, -0.7160,  0.0618],\n",
       "          [ 0.8694, -0.8502, -0.5088,  0.7030, -0.3161, -0.5047],\n",
       "          [ 0.0000,  0.0000, -0.0000, -0.0000, -0.0000, -0.0000]],\n",
       "\n",
       "         [[ 0.0000,  0.0000, -0.0000,  0.0000, -0.0000,  0.0000],\n",
       "          [ 0.4495,  0.7723, -0.4204, -0.6152,  0.8331,  1.0382],\n",
       "          [ 0.7052,  0.4141,  0.5190, -0.5778,  0.9022,  1.5894],\n",
       "          [ 0.0000,  0.0000,  0.0000,  0.0000, -0.0000,  0.0000]]]],\n",
       "       dtype=torch.float64)"
      ]
     },
     "execution_count": 167,
     "metadata": {},
     "output_type": "execute_result"
    }
   ],
   "source": [
    "x * convert_mask_to_shape(rand_mask)"
   ]
  },
  {
   "cell_type": "code",
   "execution_count": 168,
   "id": "7183e8ed",
   "metadata": {},
   "outputs": [
    {
     "data": {
      "text/plain": [
       "torch.Size([2, 2, 4, 6])"
      ]
     },
     "execution_count": 168,
     "metadata": {},
     "output_type": "execute_result"
    }
   ],
   "source": [
    "x.shape"
   ]
  },
  {
   "cell_type": "code",
   "execution_count": 169,
   "id": "d215f4b7",
   "metadata": {},
   "outputs": [],
   "source": [
    "def get_view_of_fixed_mask(x, mask, keep_tok, token_size, device):\n",
    "    \"\"\" Return just the masked section \"\"\"\n",
    "    mask = torch.from_numpy(mask).to(device)\n",
    "    \n",
    "    idx = torch.argsort(mask, dim=1) # batch_size, keep_tok\n",
    "    ids_restore = torch.argsort(idx, dim=1)\n",
    "    print(\"idx:\", idx)\n",
    "    print(\"ids_restore:\", ids_restore)\n",
    "    idx = idx[:,:keep_tok]\n",
    "    idx = torch.unsqueeze(idx, dim=1) # batch_size, feature_size, keep_tok\n",
    "    idx = torch.unsqueeze(idx, dim=3) # batch_size, feature_size, keep_tok, token_size\n",
    "    idx = idx.repeat(1, feature_size, 1, token_size)\n",
    "    return torch.gather(x, dim=2, index=idx), ids_restore"
   ]
  },
  {
   "cell_type": "code",
   "execution_count": 155,
   "id": "e6af19c4",
   "metadata": {},
   "outputs": [],
   "source": [
    "def get_view_of_fixed_mask(x, mask, keep_tok):\n",
    "    \"\"\" Return just the masked section \"\"\"\n",
    "    mask = torch.from_numpy(mask)\n",
    "    print(f\"mask:{mask.shape}\") \n",
    "    \n",
    "    idx = torch.argsort(mask, dim=1)[:,:keep_tok] # batch_size, keep_tok\n",
    "    ids_restore = torch.argsort(idx, dim=1)\n",
    "    print(\"idx:\", idx)\n",
    "    print(\"ids_restore:\", ids_restore)\n",
    "    idx = torch.unsqueeze(idx, dim=1) # batch_size, feature_size, keep_tok, token_size\n",
    "    idx = torch.unsqueeze(idx, dim=3) # batch_size, feature_size, keep_tok, token_size\n",
    "    idx = idx.repeat(1, feature_size, 1, token_size)\n",
    "    # batch_size, feature_size, keep_tok, 1\n",
    "    print(f\"idx:{idx.shape}\")\n",
    "    print(f\"x:{x.shape}\")\n",
    "    return torch.gather(x, dim=2, index=idx), ids_restore"
   ]
  },
  {
   "cell_type": "code",
   "execution_count": 170,
   "id": "e3a773cf",
   "metadata": {},
   "outputs": [
    {
     "name": "stdout",
     "output_type": "stream",
     "text": [
      "idx: tensor([[1, 2, 0, 3],\n",
      "        [0, 3, 1, 2]])\n",
      "ids_restore: tensor([[2, 0, 1, 3],\n",
      "        [0, 2, 3, 1]])\n"
     ]
    },
    {
     "data": {
      "text/plain": [
       "(tensor([[[[ 0.3862,  0.3465, -0.4487,  1.0918, -0.4493, -0.5910],\n",
       "           [ 1.0110,  0.1336,  0.8510,  1.9779,  0.5185, -0.9421]],\n",
       " \n",
       "          [[-0.2157,  0.2856, -1.0466,  0.2261,  0.9820, -0.3331],\n",
       "           [-0.9773,  1.3335,  1.7221,  1.0311,  0.9494,  0.2304]]],\n",
       " \n",
       " \n",
       "         [[[-0.1043,  0.7626, -0.1383,  0.3262,  1.4163,  1.1930],\n",
       "           [ 0.1013,  1.6498, -0.0852, -0.3387, -1.7625, -0.4069]],\n",
       " \n",
       "          [[ 1.1139,  0.9033, -0.1297,  0.9186, -0.0377,  0.4204],\n",
       "           [ 0.9845,  0.8140,  1.2143,  1.4363, -0.5735,  0.4860]]]]),\n",
       " tensor([[2, 0, 1, 3],\n",
       "         [0, 2, 3, 1]]))"
      ]
     },
     "execution_count": 170,
     "metadata": {},
     "output_type": "execute_result"
    }
   ],
   "source": [
    "get_view_of_fixed_mask(x, rand_mask, 2, token_size, 'cpu')"
   ]
  },
  {
   "cell_type": "code",
   "execution_count": 154,
   "id": "3c9796ec",
   "metadata": {},
   "outputs": [
    {
     "name": "stdout",
     "output_type": "stream",
     "text": [
      "mask:torch.Size([2, 4])\n",
      "idx:torch.Size([2, 2, 2, 6])\n",
      "x:torch.Size([2, 2, 4, 6])\n"
     ]
    },
    {
     "data": {
      "text/plain": [
       "tensor([[[[ 0.3415, -0.7421, -1.6642, -0.6188,  0.5851,  0.7946],\n",
       "          [ 0.3862,  0.3465, -0.4487,  1.0918, -0.4493, -0.5910]],\n",
       "\n",
       "         [[-0.0357, -1.2210,  1.1843,  0.2753, -0.8004,  0.9002],\n",
       "          [-0.2157,  0.2856, -1.0466,  0.2261,  0.9820, -0.3331]]],\n",
       "\n",
       "\n",
       "        [[[-0.1043,  0.7626, -0.1383,  0.3262,  1.4163,  1.1930],\n",
       "          [-0.9546,  1.0084,  1.4956, -1.1866, -0.7160,  0.0618]],\n",
       "\n",
       "         [[ 1.1139,  0.9033, -0.1297,  0.9186, -0.0377,  0.4204],\n",
       "          [ 0.4495,  0.7723, -0.4204, -0.6152,  0.8331,  1.0382]]]])"
      ]
     },
     "execution_count": 154,
     "metadata": {},
     "output_type": "execute_result"
    }
   ],
   "source": [
    "get_view_of_fixed_mask(x, rand_mask, 2)"
   ]
  },
  {
   "cell_type": "code",
   "execution_count": null,
   "id": "e38262a5",
   "metadata": {},
   "outputs": [],
   "source": []
  }
 ],
 "metadata": {
  "kernelspec": {
   "display_name": "Python 3 (ipykernel)",
   "language": "python",
   "name": "python3"
  },
  "language_info": {
   "codemirror_mode": {
    "name": "ipython",
    "version": 3
   },
   "file_extension": ".py",
   "mimetype": "text/x-python",
   "name": "python",
   "nbconvert_exporter": "python",
   "pygments_lexer": "ipython3",
   "version": "3.8.10"
  }
 },
 "nbformat": 4,
 "nbformat_minor": 5
}
